{
 "cells": [
  {
   "cell_type": "code",
   "execution_count": 1,
   "metadata": {},
   "outputs": [
    {
     "name": "stdout",
     "output_type": "stream",
     "text": [
      "Initialized successfully.\n"
     ]
    }
   ],
   "source": [
    "from segments import SegmentsClient\n",
    "\n",
    "api_key = '8838a8568988557df6e837025afb7069f2ca4072'\n",
    "client = SegmentsClient(api_key, api_url='http://localhost:5000/')"
   ]
  },
  {
   "cell_type": "markdown",
   "metadata": {},
   "source": [
    "# Datasets"
   ]
  },
  {
   "cell_type": "code",
   "execution_count": 2,
   "metadata": {},
   "outputs": [
    {
     "name": "stdout",
     "output_type": "stream",
     "text": [
      "{'name': 'flowers', 'description': 'A dataset containing flowers of all kinds.', 'data_type': 'IMAGE', 'category': 'other', 'public': False, 'owner': {'username': 'bert', 'created_at': '2020-05-11T14:00:53Z'}, 'created_at': '2021-03-04T21:14:30.127231Z', 'task_type': 'segmentation-bitmap', 'task_attributes': {'format_version': '0.1', 'categories': [{'id': 0, 'name': 'object'}]}, 'task_readme': '', 'collaborators_count': 0, 'samples_count': 0, 'readme': '', 'noncollaborator_can_label': False, 'noncollaborator_can_review': False}\n"
     ]
    }
   ],
   "source": [
    "# Create\n",
    "dataset_name = \"flowers\"\n",
    "description = \"A dataset containing flowers of all kinds.\"\n",
    "\n",
    "dataset = client.add_dataset(dataset_name, description)\n",
    "print(dataset)"
   ]
  },
  {
   "cell_type": "code",
   "execution_count": 3,
   "metadata": {},
   "outputs": [
    {
     "name": "stdout",
     "output_type": "stream",
     "text": [
      "[{'name': 'hello', 'description': 'CityScapes large-scale street scenery dataset.', 'data_type': 'IMAGE', 'category': 'other', 'public': True, 'owner': {'username': 'bert', 'created_at': '2020-05-11T14:00:53Z'}, 'created_at': '2020-05-12T17:40:35.143274Z', 'task_type': 'segmentation-bitmap', 'task_attributes': {'categories': [{'name': 'car', 'id': 0}]}, 'task_readme': '- Label all the things', 'collaborators_count': 0, 'samples_count': 23}, {'name': 'sdfsdf', 'description': '', 'data_type': 'IMAGE', 'category': 'other', 'public': True, 'owner': {'username': 'bert', 'created_at': '2020-05-11T14:00:53Z'}, 'created_at': '2020-05-13T10:00:02.268534Z', 'task_type': 'segmentation-bitmap', 'task_attributes': {'categories': [{'name': 'object', 'id': 1}]}, 'task_readme': '', 'collaborators_count': 0, 'samples_count': 1}, {'name': 'very-long-name-that-doesnt-fit-in-the-box-probably', 'description': '', 'data_type': 'IMAGE', 'category': 'other', 'public': False, 'owner': {'username': 'bert', 'created_at': '2020-05-11T14:00:53Z'}, 'created_at': '2020-05-13T17:43:39.819788Z', 'task_type': 'segmentation-bitmap', 'task_attributes': {'categories': [{'name': 'object', 'id': 1}]}, 'task_readme': '', 'collaborators_count': 0, 'samples_count': 7}, {'name': 'penguins', 'description': '', 'data_type': 'IMAGE', 'category': 'other', 'public': True, 'owner': {'username': 'bert', 'created_at': '2020-05-11T14:00:53Z'}, 'created_at': '2020-05-19T19:11:23.299437Z', 'task_type': 'segmentation-bitmap', 'task_attributes': {'categories': [{'name': 'bottle', 'id': 0}]}, 'task_readme': '', 'collaborators_count': 0, 'samples_count': 23}, {'name': 'resizetest', 'description': '', 'data_type': 'IMAGE', 'category': 'other', 'public': True, 'owner': {'username': 'bert', 'created_at': '2020-05-11T14:00:53Z'}, 'created_at': '2020-05-25T08:38:37.101625Z', 'task_type': 'segmentation-bitmap', 'task_attributes': {'categories': [{'name': 'object', 'id': 1}]}, 'task_readme': '', 'collaborators_count': 0, 'samples_count': 4}, {'name': 'dfsdfsd', 'description': 'Hello. This is it. Now.', 'data_type': 'IMAGE', 'category': 'other', 'public': True, 'owner': {'username': 'bert', 'created_at': '2020-05-11T14:00:53Z'}, 'created_at': '2020-06-01T19:58:55Z', 'task_type': 'segmentation-bitmap', 'task_attributes': {'categories': [{'name': 'object', 'id': 1}]}, 'task_readme': 'Hello.', 'collaborators_count': 0, 'samples_count': 141}, {'name': 'playground', 'description': '', 'data_type': 'IMAGE', 'category': 'other', 'public': True, 'owner': {'username': 'bert', 'created_at': '2020-05-11T14:00:53Z'}, 'created_at': '2020-06-09T14:46:04.765464Z', 'task_type': 'segmentation-bitmap', 'task_attributes': {'categories': [{'name': 'object', 'id': 1}]}, 'task_readme': '', 'collaborators_count': 0, 'samples_count': 3}, {'name': 'vectorlabels', 'description': 'test', 'data_type': 'IMAGE', 'category': 'street_scenery', 'public': True, 'owner': {'username': 'bert', 'created_at': '2020-05-11T14:00:53Z'}, 'created_at': '2020-06-22T14:33:18.797253Z', 'task_type': 'segmentation-vector', 'task_attributes': {'categories': [{'name': 'object', 'id': 1}, {'name': 'car', 'id': 2}]}, 'task_readme': '', 'collaborators_count': 0, 'samples_count': 1}, {'name': 'blablabla', 'description': '', 'data_type': 'IMAGE', 'category': 'street_scenery', 'public': True, 'owner': {'username': 'bert', 'created_at': '2020-05-11T14:00:53Z'}, 'created_at': '2020-07-06T14:45:05.807162Z', 'task_type': 'segmentation-bitmap', 'task_attributes': {'categories': [{'name': 'object', 'id': 1}, {'name': 'gers', 'id': 2}]}, 'task_readme': '', 'collaborators_count': 0, 'samples_count': 5}, {'name': 'cats', 'description': '', 'data_type': 'IMAGE', 'category': 'other', 'public': False, 'owner': {'username': 'bert', 'created_at': '2020-05-11T14:00:53Z'}, 'created_at': '2020-07-20T14:59:36.242218Z', 'task_type': 'segmentation-bitmap', 'task_attributes': {'format_version': '0.1', 'categories': [{'name': 'cat', 'id': 0}, {'name': 'dog', 'id': 1}]}, 'task_readme': '', 'collaborators_count': 0, 'samples_count': 94}, {'name': 'tomatoes', 'description': '', 'data_type': 'IMAGE', 'category': 'other', 'public': True, 'owner': {'username': 'bert', 'created_at': '2020-05-11T14:00:53Z'}, 'created_at': '2020-07-28T10:30:46Z', 'task_type': 'segmentation-bitmap', 'task_attributes': {'format_version': '0.1', 'categories': [{'name': 'red tomato', 'id': 0}, {'name': 'green tomato', 'id': 1}]}, 'task_readme': '', 'collaborators_count': 0, 'samples_count': 102}, {'name': 'similarity_test', 'description': '', 'data_type': 'IMAGE', 'category': 'other', 'public': True, 'owner': {'username': 'bert', 'created_at': '2020-05-11T14:00:53Z'}, 'created_at': '2020-08-21T15:23:41.903411Z', 'task_type': 'segmentation-bitmap', 'task_attributes': {'format_version': '0.1', 'categories': [{'name': 'object', 'id': 0}]}, 'task_readme': '', 'collaborators_count': 0, 'samples_count': 9}, {'name': 'thumbnail-test', 'description': '', 'data_type': 'IMAGE', 'category': 'other', 'public': True, 'owner': {'username': 'bert', 'created_at': '2020-05-11T14:00:53Z'}, 'created_at': '2020-09-29T13:38:54.026621Z', 'task_type': 'segmentation-bitmap', 'task_attributes': {'format_version': '0.1', 'categories': [{'name': 'object', 'id': 0}]}, 'task_readme': '', 'collaborators_count': 0, 'samples_count': 9}, {'name': 'thumbnail-test2', 'description': '', 'data_type': 'IMAGE', 'category': 'other', 'public': True, 'owner': {'username': 'bert', 'created_at': '2020-05-11T14:00:53Z'}, 'created_at': '2020-09-29T15:23:42.938879Z', 'task_type': 'segmentation-bitmap', 'task_attributes': {'format_version': '0.1', 'categories': [{'name': 'class1', 'id': 0}, {'name': 'class2', 'id': 1}, {'name': 'class3', 'id': 2}]}, 'task_readme': '', 'collaborators_count': 0, 'samples_count': 17}, {'name': 'boundingbox-test', 'description': '', 'data_type': 'IMAGE', 'category': 'other', 'public': True, 'owner': {'username': 'bert', 'created_at': '2020-05-11T14:00:53Z'}, 'created_at': '2020-10-02T11:58:59.395083Z', 'task_type': 'bboxes', 'task_attributes': {'format_version': '0.1', 'categories': [{'name': 'car', 'id': 0}, {'name': 'person', 'id': 1}, {'name': 'bike', 'id': 2}]}, 'task_readme': '', 'collaborators_count': 0, 'samples_count': 20}, {'name': 'depth-overlay', 'description': 'Testing the overlay image functionality', 'data_type': 'IMAGE', 'category': 'other', 'public': False, 'owner': {'username': 'bert', 'created_at': '2020-05-11T14:00:53Z'}, 'created_at': '2020-10-19T18:52:23.130775Z', 'task_type': 'segmentation-bitmap', 'task_attributes': {'format_version': '0.1', 'categories': [{'name': 'car', 'id': 0}, {'name': 'person', 'id': 1}]}, 'task_readme': '', 'collaborators_count': 0, 'samples_count': 1}, {'name': 'testtest', 'description': '', 'data_type': 'IMAGE', 'category': 'other', 'public': True, 'owner': {'username': 'bert', 'created_at': '2020-05-11T14:00:53Z'}, 'created_at': '2020-10-22T11:35:04Z', 'task_type': 'segmentation-bitmap', 'task_attributes': {'format_version': '0.1', 'categories': [{'name': 'object', 'id': 0}, {'name': 'test', 'id': 1}], 'image_categories_enabled': True}, 'task_readme': '', 'collaborators_count': 0, 'samples_count': 2}, {'name': 'thumbnail-tester', 'description': '', 'data_type': 'IMAGE', 'category': 'other', 'public': True, 'owner': {'username': 'bert', 'created_at': '2020-05-11T14:00:53Z'}, 'created_at': '2020-11-02T11:47:23.046610Z', 'task_type': 'segmentation-bitmap', 'task_attributes': {'format_version': '0.1', 'categories': [{'name': 'object', 'id': 0}, {'name': 'car', 'id': 1}, {'name': 'sth-else', 'id': 2}]}, 'task_readme': '', 'collaborators_count': 0, 'samples_count': 40}, {'name': 'hhhh', 'description': '', 'data_type': 'IMAGE', 'category': 'garden', 'public': True, 'owner': {'username': 'bert', 'created_at': '2020-05-11T14:00:53Z'}, 'created_at': '2020-11-03T16:16:30.943019Z', 'task_type': 'segmentation-bitmap', 'task_attributes': {'format_version': '0.1', 'categories': [{'name': 'object', 'id': 0}]}, 'task_readme': 'Hello. Do this and that.', 'collaborators_count': 0, 'samples_count': 8}, {'name': 'another-test2', 'description': '', 'data_type': 'IMAGE', 'category': 'people', 'public': False, 'owner': {'username': 'bert', 'created_at': '2020-05-11T14:00:53Z'}, 'created_at': '2020-11-05T15:24:14Z', 'task_type': 'segmentation-bitmap', 'task_attributes': {'format_version': '0.1', 'categories': [{'name': 'object', 'id': 0, 'has_instances': False}, {'name': 'car', 'id': 1}]}, 'task_readme': '', 'collaborators_count': 1, 'samples_count': 25}, {'name': 'test-softdeletion', 'description': '', 'data_type': 'IMAGE', 'category': 'other', 'public': True, 'owner': {'username': 'bert', 'created_at': '2020-05-11T14:00:53Z'}, 'created_at': '2020-11-06T15:49:48.216985Z', 'task_type': 'segmentation-bitmap', 'task_attributes': {'format_version': '0.1', 'categories': [{'name': 'object', 'id': 0}]}, 'task_readme': '', 'collaborators_count': 0, 'samples_count': 17}, {'name': 'bboxes', 'description': '', 'data_type': 'IMAGE', 'category': 'other', 'public': True, 'owner': {'username': 'bert', 'created_at': '2020-05-11T14:00:53Z'}, 'created_at': '2020-11-10T12:12:27.400254Z', 'task_type': 'bboxes', 'task_attributes': {'format_version': '0.1', 'categories': [{'name': 'cat', 'id': 0}, {'name': 'dog', 'id': 1}], 'enable_keypoint_mode': True}, 'task_readme': 'Hello these are labeling instructions.', 'collaborators_count': 0, 'samples_count': 16}, {'name': 'lambda-segm', 'description': '', 'data_type': 'IMAGE', 'category': 'other', 'public': True, 'owner': {'username': 'bert', 'created_at': '2020-05-11T14:00:53Z'}, 'created_at': '2020-11-15T17:01:07.973572Z', 'task_type': 'segmentation-bitmap', 'task_attributes': {'format_version': '0.1', 'categories': [{'name': 'object', 'id': 0}, {'name': 'car', 'id': 1}]}, 'task_readme': '', 'collaborators_count': 0, 'samples_count': 9}, {'name': 'lambda-segm2', 'description': '', 'data_type': 'IMAGE', 'category': 'other', 'public': True, 'owner': {'username': 'bert', 'created_at': '2020-05-11T14:00:53Z'}, 'created_at': '2020-11-15T17:05:18.887423Z', 'task_type': 'segmentation-bitmap', 'task_attributes': {'format_version': '0.1', 'categories': [{'name': 'object', 'id': 0}, {'name': 'car', 'id': 1}]}, 'task_readme': '', 'collaborators_count': 0, 'samples_count': 11}, {'name': 'lambda-bbox', 'description': '', 'data_type': 'IMAGE', 'category': 'other', 'public': True, 'owner': {'username': 'bert', 'created_at': '2020-05-11T14:00:53Z'}, 'created_at': '2020-11-15T17:06:09.536606Z', 'task_type': 'segmentation-bitmap', 'task_attributes': {'format_version': '0.1', 'categories': [{'name': 'object', 'id': 0}, {'name': 'car', 'id': 1}]}, 'task_readme': '', 'collaborators_count': 0, 'samples_count': 8}, {'name': 'lambda-bbox2', 'description': '', 'data_type': 'IMAGE', 'category': 'other', 'public': True, 'owner': {'username': 'bert', 'created_at': '2020-05-11T14:00:53Z'}, 'created_at': '2020-11-15T17:06:53.296457Z', 'task_type': 'bboxes', 'task_attributes': {'format_version': '0.1', 'categories': [{'name': 'object', 'id': 0}, {'name': 'car', 'id': 1}, {'name': 'sth else', 'id': 2}]}, 'task_readme': '', 'collaborators_count': 0, 'samples_count': 8}, {'name': 'bboxes-sdk', 'description': '', 'data_type': 'IMAGE', 'category': 'other', 'public': True, 'owner': {'username': 'bert', 'created_at': '2020-05-11T14:00:53Z'}, 'created_at': '2020-11-27T14:57:59.975793Z', 'task_type': 'bboxes', 'task_attributes': {'format_version': '0.1', 'categories': [{'name': 'object', 'id': 0}, {'name': 'cat', 'id': 1}, {'name': 'dog', 'id': 2}]}, 'task_readme': '', 'collaborators_count': 0, 'samples_count': 11}, {'name': 'whatabout', 'description': 'Testing the stuff.', 'data_type': 'IMAGE', 'category': 'people', 'public': True, 'owner': {'username': 'bert', 'created_at': '2020-05-11T14:00:53Z'}, 'created_at': '2020-12-06T14:37:20.964199Z', 'task_type': 'segmentation-bitmap', 'task_attributes': {'format_version': '0.1', 'categories': [{'name': 'test', 'id': 0}]}, 'task_readme': 'This is a test.', 'collaborators_count': 0, 'samples_count': 3}, {'name': 'cityscapes', 'description': '', 'data_type': 'IMAGE', 'category': 'street_scenery', 'public': True, 'owner': {'username': 'bert', 'created_at': '2020-05-11T14:00:53Z'}, 'created_at': '2020-12-10T14:16:24.548409Z', 'task_type': 'segmentation-bitmap', 'task_attributes': {'format_version': '0.1', 'categories': [{'name': 'road', 'id': 0, 'description': 'Part of ground on which cars usually drive, i.e. all lanes, all directions, all streets. Including the markings on the road. Areas only delimited by markings from the main road (no texture change) are also road, e.g. bicycle lanes, roundabout lanes, or parking spaces. This label does not include curbs.', 'has_instances': False}, {'name': 'sidewalk', 'id': 1, 'description': 'Part of ground designated for pedestrians or cyclists. Delimited from the road by some obstacle, e.g. curbs or poles (might be small), not only by markings. Often elevated compared to the road. Often located at the sides of a road. This label includes a possibly delimiting curb, traffic islands (the walkable part), or pedestrian zones (where usually cars are not allowed to drive during day-time).', 'has_instances': False}, {'name': 'building', 'id': 2, 'description': 'Building, skyscraper, house, bus stop building, garage, car port. If a building has a glass wall that you can see through, the wall is still building. Includes scaffolding attached to buildings.', 'has_instances': False}, {'name': 'wall', 'id': 3, 'description': 'Individual standing wall. Not part of a building.', 'has_instances': False}, {'name': 'fence', 'id': 4, 'description': 'Fence including any holes.', 'has_instances': False}, {'name': 'pole', 'id': 5, 'description': 'Small mainly vertically oriented pole. E.g. sign pole, traffic light poles. If the pole has a horizontal part (often for traffic light poles) this part is also considered pole. If there are things mounted at the pole that are neither traffic light nor traffic sign (e.g. street lights) and that have a diameter (in pixels) of at most twice the diameter of the pole, then these things might also be labeled pole. If they are larger, they are labeled static.', 'has_instances': False}, {'name': 'traffic light', 'id': 6, 'description': 'The traffic light box without its poles.', 'has_instances': False}, {'name': 'traffic sign', 'id': 7, 'description': 'Sign installed from the state/city authority, usually for information of the driver/cyclist/pedestrian in an everyday traffic scene, e.g. traffic- signs, parking signs, direction signs - without their poles. No ads/commercial signs. Only the front side of a sign containing the information. The back side is static. Note that commercial signs attached to buildings become building, attached to poles or standing on their own become static.', 'has_instances': False}, {'name': 'vegetation', 'id': 8, 'description': 'Tree, hedge, all kinds of vertical vegetation. Plants attached to buildings are usually not annotated separately and labeled building as well. If growing at the side of a wall or building, marked as vegetation if it covers a substantial part of the surface (more than 20%).', 'has_instances': False}, {'name': 'terrain', 'id': 9, 'description': 'Grass, all kinds of horizontal vegetation, soil or sand. These areas are not meant to be driven on. This label includes a possibly delimiting curb. Single grass stalks do not need to be annotated and get the label of the region they are growing on.', 'has_instances': False}, {'name': 'sky', 'id': 10, 'description': 'Open sky, without leaves of tree. Includes thin electrical wires in front of the sky.', 'has_instances': False}, {'name': 'person', 'id': 11, 'description': 'A human that satisfies the following criterion. Assume the human moved a distance of 1m and stopped again. If the human would walk, the label is person, otherwise not. Examples are people walking, standing or sitting on the ground, on a bench, on a chair. This class also includes toddlers, someone pushing a bicycle or standing next to it with both legs on the same side of the bicycle. This class includes anything that is carried by the person, e.g. backpack, but not items touching the ground, e.g. trolleys.', 'has_instances': True, 'attributes': [{'name': 'is_group', 'input_type': 'radio', 'values': ['0', '1']}]}, {'name': 'rider', 'id': 12, 'description': 'A human that would use some device to move a distance of 1m. Includes, riders/drivers of bicycle, motorbike, scooter, skateboards, horses, roller-blades, wheel-chairs, road cleaning cars, cars without roof. Note that a visible driver of a car with roof can only be seen through the window. Since holes are not labeled, the human is included in the car label.', 'has_instances': True, 'attributes': [{'name': 'is_group', 'input_type': 'radio', 'values': ['0', '1']}]}, {'name': 'car', 'id': 13, 'description': 'Car, jeep, SUV, van with continuous body shape, caravan, no other trailers.', 'has_instances': True, 'attributes': [{'name': 'is_group', 'input_type': 'radio', 'values': ['0', '1']}]}, {'name': 'truck', 'id': 14, 'description': 'Truck, box truck, pickup truck. Including their trailers. Back part / loading area is physically separated from driving compartment.', 'has_instances': True, 'attributes': [{'name': 'is_group', 'input_type': 'radio', 'values': ['0', '1']}]}, {'name': 'bus', 'id': 15, 'description': 'Bus for 9+ persons, public transport or long distance transport.', 'has_instances': True, 'attributes': [{'name': 'is_group', 'input_type': 'radio', 'values': ['0', '1']}]}, {'name': 'train', 'id': 16, 'description': 'Vehicle on rails, e.g. tram, train.', 'has_instances': True, 'attributes': [{'name': 'is_group', 'input_type': 'radio', 'values': ['0', '1']}]}, {'name': 'motorcycle', 'id': 17, 'description': \"Motorbike, moped, scooter without the driver (that's a rider, see above).\", 'has_instances': True, 'attributes': [{'name': 'is_group', 'input_type': 'radio', 'values': ['0', '1']}]}, {'name': 'bicycle', 'id': 18, 'description': \"Bicycle without the driver (that's a rider, see above).\", 'has_instances': True, 'attributes': [{'name': 'is_group', 'input_type': 'radio', 'values': ['0', '1']}]}]}, 'task_readme': '', 'collaborators_count': 3, 'samples_count': 53}, {'name': 'attributes-test', 'description': '', 'data_type': 'IMAGE', 'category': 'other', 'public': False, 'owner': {'username': 'bert', 'created_at': '2020-05-11T14:00:53Z'}, 'created_at': '2020-12-13T17:35:46.750363Z', 'task_type': 'segmentation-bitmap', 'task_attributes': {'format_version': '0.1', 'categories': [{'name': 'person', 'id': 0}, {'name': 'chair', 'id': 1}, {'name': 'couch', 'id': 2}, {'name': 'bed', 'id': 3}, {'name': 'table', 'id': 4}, {'name': 'screen', 'id': 5}, {'name': 'book', 'id': 6}, {'name': 'door', 'id': 7, 'attributes': [{'name': 'state', 'input_type': 'radio', 'values': ['open', 'closed', 'ajar']}]}, {'name': 'object', 'id': 8}, {'name': 'window', 'id': 9}, {'name': 'wall', 'id': 10}, {'name': 'floor', 'id': 11}, {'name': 'ceiling', 'id': 12}, {'name': 'mirror', 'id': 13}], 'image_attributes': [{'name': 'type', 'input_type': 'radio', 'values': ['kitchen', 'bedroom', 'living-room', 'bathroom', 'office', 'hallway', 'communal-hall']}, {'name': 'brightness', 'input_type': 'radio', 'values': ['well-lit', 'partially-lit', 'poorly-lit']}]}, 'task_readme': '', 'collaborators_count': 0, 'samples_count': 9}, {'name': 'test-upgrade', 'description': '', 'data_type': 'IMAGE', 'category': 'agriculture', 'public': True, 'owner': {'username': 'bert', 'created_at': '2020-05-11T14:00:53Z'}, 'created_at': '2020-12-20T09:48:28.469496Z', 'task_type': 'segmentation-bitmap', 'task_attributes': {'format_version': '0.1', 'categories': [{'name': 'object', 'id': 0}, {'name': 'apple', 'id': 1}, {'name': 'strawberry', 'id': 2}]}, 'task_readme': '', 'collaborators_count': 0, 'samples_count': 7}, {'name': 'demo-medical', 'description': '', 'data_type': 'IMAGE', 'category': 'medical', 'public': False, 'owner': {'username': 'bert', 'created_at': '2020-05-11T14:00:53Z'}, 'created_at': '2021-02-06T17:49:49.442733Z', 'task_type': 'segmentation-bitmap', 'task_attributes': {'format_version': '0.1', 'categories': [{'name': 'object', 'id': 0}]}, 'task_readme': '', 'collaborators_count': 0, 'samples_count': 1}, {'name': 'a-debug', 'description': '', 'data_type': 'IMAGE', 'category': 'other', 'public': True, 'owner': {'username': 'bert', 'created_at': '2020-05-11T14:00:53Z'}, 'created_at': '2021-02-10T11:25:15.157628Z', 'task_type': 'bboxes', 'task_attributes': {'format_version': '0.1', 'categories': [{'name': 'object', 'id': 0}, {'name': 'car', 'id': 1}]}, 'task_readme': '', 'collaborators_count': 0, 'samples_count': 1}, {'name': 'keypoints-test', 'description': '', 'data_type': 'IMAGE', 'category': 'other', 'public': True, 'owner': {'username': 'bert', 'created_at': '2020-05-11T14:00:53Z'}, 'created_at': '2021-02-18T11:50:58.441695Z', 'task_type': 'keypoints', 'task_attributes': {'format_version': '0.1', 'categories': [{'name': 'object', 'id': 0}, {'name': 'car', 'id': 1}]}, 'task_readme': '', 'collaborators_count': 0, 'samples_count': 7}, {'name': 'flowers', 'description': 'A dataset containing flowers of all kinds.', 'data_type': 'IMAGE', 'category': 'other', 'public': False, 'owner': {'username': 'bert', 'created_at': '2020-05-11T14:00:53Z'}, 'created_at': '2021-03-04T21:14:30.127231Z', 'task_type': 'segmentation-bitmap', 'task_attributes': {'format_version': '0.1', 'categories': [{'id': 0, 'name': 'object'}]}, 'task_readme': '', 'collaborators_count': 0, 'samples_count': 0}]\n"
     ]
    }
   ],
   "source": [
    "# List\n",
    "user = 'bert'\n",
    "datasets = client.get_datasets(user)\n",
    "print(datasets)"
   ]
  },
  {
   "cell_type": "code",
   "execution_count": 4,
   "metadata": {},
   "outputs": [
    {
     "name": "stdout",
     "output_type": "stream",
     "text": [
      "{'name': 'flowers', 'description': 'A dataset containing flowers of all kinds.', 'data_type': 'IMAGE', 'category': 'other', 'public': False, 'owner': {'username': 'bert', 'created_at': '2020-05-11T14:00:53Z'}, 'created_at': '2021-03-04T21:14:30.127231Z', 'task_type': 'segmentation-bitmap', 'task_attributes': {'format_version': '0.1', 'categories': [{'id': 0, 'name': 'object'}]}, 'task_readme': '', 'collaborators_count': 0, 'samples_count': 0, 'role': 'admin', 'readme': '', 'noncollaborator_can_label': False, 'noncollaborator_can_review': False, 'tasks': [{'uuid': '0cc54046-7434-45ab-bb81-d0650e11833a', 'name': 'ground-truth', 'description': '', 'readme': '', 'task_type': 'segmentation-bitmap', 'attributes': {'format_version': '0.1', 'categories': [{'id': 0, 'name': 'object'}]}, 'is_groundtruth': True, 'statistics': {'prelabeled_count': 0, 'labeled_count': 0, 'reviewed_count': 0, 'rejected_count': 0, 'skipped_count': 0, 'samples_count': 0}, 'stats': {}, 'created_at': '2021-03-04T21:14:30.198898Z'}], 'labelsets': [{'name': 'ground-truth', 'description': '', 'is_groundtruth': True, 'created_at': '2021-03-04T21:14:30.198898Z'}]}\n"
     ]
    }
   ],
   "source": [
    "# Get\n",
    "dataset = client.get_dataset('bert/flowers')\n",
    "print(dataset)"
   ]
  },
  {
   "cell_type": "code",
   "execution_count": null,
   "metadata": {},
   "outputs": [],
   "source": [
    "# Delete\n",
    "client.delete_dataset('bert/flowers')"
   ]
  },
  {
   "cell_type": "markdown",
   "metadata": {},
   "source": [
    "# Samples"
   ]
  },
  {
   "cell_type": "code",
   "execution_count": 9,
   "metadata": {},
   "outputs": [
    {
     "name": "stdout",
     "output_type": "stream",
     "text": [
      "Added obama.jpg\n",
      "{'uuid': 'ff758c5f-7ad1-4c58-80ed-f383f32afd92', 'name': 'obama.jpg', 'attributes': {'image': {'url': 'https://cdn.cnn.com/cnnnext/dam/assets/200516225059-02-graduate-together-obama-exlarge-169.jpg'}}, 'metadata': {'weather': 'sunny', 'robot_id': 3}, 'created_at': '2021-03-04T21:15:35.806668Z', 'created_by': 'bert', 'comments': [], 'priority': 10.0}\n"
     ]
    }
   ],
   "source": [
    "# Create\n",
    "dataset = \"bert/flowers\"\n",
    "name = \"obama.jpg\"\n",
    "attributes = {\n",
    "    \"image\": {\n",
    "        \"url\": \"https://cdn.cnn.com/cnnnext/dam/assets/200516225059-02-graduate-together-obama-exlarge-169.jpg\"\n",
    "    }\n",
    "}\n",
    "metadata = {\n",
    "    \"weather\": \"sunny\",\n",
    "    \"robot_id\": 3\n",
    "}\n",
    "priority = 10\n",
    "sample = client.add_sample(dataset, name, attributes, metadata, priority)\n",
    "print(sample)"
   ]
  },
  {
   "cell_type": "code",
   "execution_count": 10,
   "metadata": {
    "scrolled": true
   },
   "outputs": [
    {
     "name": "stdout",
     "output_type": "stream",
     "text": [
      "[{'uuid': 'ff758c5f-7ad1-4c58-80ed-f383f32afd92', 'name': 'obama.jpg', 'attributes': {'image': {'url': 'https://cdn.cnn.com/cnnnext/dam/assets/200516225059-02-graduate-together-obama-exlarge-169.jpg'}}, 'metadata': {'weather': 'sunny', 'robot_id': 3}, 'created_at': '2021-03-04T21:15:35.806668Z', 'created_by': 'bert', 'comments': [], 'priority': 10.0}]\n"
     ]
    }
   ],
   "source": [
    "# List\n",
    "samples = client.get_samples(\"bert/flowers\")\n",
    "print(samples)"
   ]
  },
  {
   "cell_type": "code",
   "execution_count": 7,
   "metadata": {},
   "outputs": [
    {
     "name": "stdout",
     "output_type": "stream",
     "text": [
      "{'uuid': '7ea88313-6734-4747-8706-e06c63e77b03', 'name': 'obama.jpg', 'attributes': {'image': {'url': 'https://cdn.cnn.com/cnnnext/dam/assets/200516225059-02-graduate-together-obama-exlarge-169.jpg'}}, 'metadata': {}, 'created_at': '2021-03-04T21:14:43.878373Z', 'created_by': 'bert', 'comments': [], 'priority': 0.0}\n"
     ]
    }
   ],
   "source": [
    "# Get\n",
    "sample = client.get_sample(sample['uuid'])\n",
    "print(sample)"
   ]
  },
  {
   "cell_type": "code",
   "execution_count": 11,
   "metadata": {},
   "outputs": [],
   "source": [
    "# Delete\n",
    "client.delete_sample(sample['uuid'])"
   ]
  },
  {
   "cell_type": "markdown",
   "metadata": {},
   "source": [
    "# Labels"
   ]
  },
  {
   "cell_type": "code",
   "execution_count": null,
   "metadata": {},
   "outputs": [],
   "source": [
    "# Create or update\n",
    "sample_uuid = \"67d7203a-00ed-4c93-8b4a-1422c5cb15ae\"\n",
    "task_name = \"ground-truth\"\n",
    "attributes = {\n",
    "    \"segmentation_bitmap\": {\n",
    "        \"url\": \"https://segmentsai-prod.s3.eu-west-2.amazonaws.com/assets/bert/49f6aa10-8967-4305-985c-cdc1e8f89b93.png\"\n",
    "    },\n",
    "    \"annotations\": [\n",
    "        {\n",
    "            \"id\": 1,\n",
    "            \"category_id\": 2\n",
    "        },\n",
    "        {\n",
    "            \"id\": 2,\n",
    "            \"category_id\": 3\n",
    "        }\n",
    "    ]\n",
    "}\n",
    "\n",
    "client.add_label(sample_uuid, task_name, attributes)"
   ]
  },
  {
   "cell_type": "code",
   "execution_count": null,
   "metadata": {},
   "outputs": [],
   "source": [
    "# Get\n",
    "label = client.get_label(sample_uuid, task_name)\n",
    "print(label)"
   ]
  },
  {
   "cell_type": "code",
   "execution_count": null,
   "metadata": {},
   "outputs": [],
   "source": [
    "# Delete\n",
    "sample_uuid = \"67d7203a-00ed-4c93-8b4a-1422c5cb15ae\"\n",
    "task_name = \"ground-truth\"\n",
    "label = client.delete_label(sample_uuid, task_name)"
   ]
  },
  {
   "cell_type": "markdown",
   "metadata": {},
   "source": [
    "# Releases"
   ]
  },
  {
   "cell_type": "code",
   "execution_count": null,
   "metadata": {},
   "outputs": [],
   "source": [
    "# Create\n",
    "dataset = \"bert/flowers\"\n",
    "name = \"test-release\"\n",
    "client.add_release(dataset, name)"
   ]
  },
  {
   "cell_type": "code",
   "execution_count": null,
   "metadata": {},
   "outputs": [],
   "source": [
    "# List\n",
    "releases = client.get_releases(dataset)\n",
    "print(releases)"
   ]
  },
  {
   "cell_type": "code",
   "execution_count": null,
   "metadata": {},
   "outputs": [],
   "source": [
    "# Get\n",
    "release = client.get_release(dataset, name)\n",
    "print(release)"
   ]
  },
  {
   "cell_type": "code",
   "execution_count": null,
   "metadata": {},
   "outputs": [],
   "source": [
    "# Delete\n",
    "client.delete_release(dataset, name)"
   ]
  },
  {
   "cell_type": "markdown",
   "metadata": {},
   "source": [
    "# Assets"
   ]
  },
  {
   "cell_type": "code",
   "execution_count": null,
   "metadata": {},
   "outputs": [],
   "source": [
    "# Upload asset\n",
    "from PIL import Image\n",
    "from io import BytesIO\n",
    "\n",
    "image = Image.open(\"/home/bert/Downloads/2490.png\")\n",
    "file = BytesIO()\n",
    "image.save(file, 'PNG')\n",
    "\n",
    "asset = client.upload_asset(file, \"test.png\")\n",
    "print(asset)"
   ]
  }
 ],
 "metadata": {
  "kernelspec": {
   "display_name": "Python 3",
   "language": "python",
   "name": "python3"
  },
  "language_info": {
   "codemirror_mode": {
    "name": "ipython",
    "version": 3
   },
   "file_extension": ".py",
   "mimetype": "text/x-python",
   "name": "python",
   "nbconvert_exporter": "python",
   "pygments_lexer": "ipython3",
   "version": "3.6.9"
  }
 },
 "nbformat": 4,
 "nbformat_minor": 2
}
